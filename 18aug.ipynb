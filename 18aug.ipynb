{
 "cells": [
  {
   "cell_type": "markdown",
   "metadata": {},
   "source": [
    "# Chapter 4 Loops"
   ]
  },
  {
   "cell_type": "code",
   "execution_count": 39,
   "metadata": {},
   "outputs": [
    {
     "name": "stdout",
     "output_type": "stream",
     "text": [
      "['Apple', 'Cherry', 'Grapes']\n"
     ]
    }
   ],
   "source": [
    "fruits : list = [\"Apple\", \"Cherry\" , \"Grapes\"]\n",
    "print(fruits)"
   ]
  },
  {
   "cell_type": "code",
   "execution_count": 40,
   "metadata": {},
   "outputs": [
    {
     "name": "stdout",
     "output_type": "stream",
     "text": [
      "Apple\n",
      "Cherry\n",
      "Grapes\n"
     ]
    }
   ],
   "source": [
    "for x in fruits:\n",
    "    print(x)"
   ]
  },
  {
   "cell_type": "code",
   "execution_count": 41,
   "metadata": {},
   "outputs": [
    {
     "name": "stdout",
     "output_type": "stream",
     "text": [
      "APPLE\n",
      "CHERRY\n",
      "GRAPES\n"
     ]
    }
   ],
   "source": [
    "for x in fruits:\n",
    "    print(x.upper())"
   ]
  },
  {
   "cell_type": "code",
   "execution_count": 42,
   "metadata": {},
   "outputs": [
    {
     "name": "stdout",
     "output_type": "stream",
     "text": [
      "['Apple', 'Cherry', 'Grapes']\n",
      "Cherry\n",
      "['Apple', 'Grapes']\n"
     ]
    }
   ],
   "source": [
    "for x in fruits:\n",
    "    if x==\"Cherry\":\n",
    "        fruits.remove(x)\n",
    "        print(x)\n",
    "    print(fruits)"
   ]
  },
  {
   "cell_type": "markdown",
   "metadata": {},
   "source": [
    "# Avoid Indentation Error"
   ]
  },
  {
   "cell_type": "code",
   "execution_count": 43,
   "metadata": {},
   "outputs": [
    {
     "name": "stdout",
     "output_type": "stream",
     "text": [
      "Apple\n",
      "First Name\n",
      "Grapes\n",
      "First Name\n",
      "Last Name\n"
     ]
    }
   ],
   "source": [
    "# jo methods kuch return krty hai wo print mai use kr sakty \n",
    "for x in fruits:\n",
    "    print(x)\n",
    "    print(\"First Name\")\n",
    "print(\"Last Name\")\n"
   ]
  },
  {
   "cell_type": "markdown",
   "metadata": {},
   "source": [
    "# range() function\n"
   ]
  },
  {
   "cell_type": "code",
   "execution_count": 55,
   "metadata": {},
   "outputs": [
    {
     "name": "stdout",
     "output_type": "stream",
     "text": [
      "2- Esha\n",
      "4- Esha\n",
      "6- Esha\n",
      "8- Esha\n"
     ]
    }
   ],
   "source": [
    "# range(start(default =0), end, step(default = 1))\n",
    "for i in range(2, 10, 2):\n",
    "    print(f\"{i}- Esha\")"
   ]
  },
  {
   "cell_type": "code",
   "execution_count": 56,
   "metadata": {},
   "outputs": [
    {
     "name": "stdout",
     "output_type": "stream",
     "text": [
      "10- Esha\n",
      "9- Esha\n",
      "8- Esha\n",
      "7- Esha\n",
      "6- Esha\n",
      "5- Esha\n",
      "4- Esha\n",
      "3- Esha\n",
      "2- Esha\n",
      "1- Esha\n"
     ]
    }
   ],
   "source": [
    "# range(start(default =0), end, step(default = 1))\n",
    "for i in range(10, 0, -1):\n",
    "    print(f\"{i}- Esha\")"
   ]
  },
  {
   "cell_type": "markdown",
   "metadata": {},
   "source": [
    "# Type casting\n"
   ]
  },
  {
   "cell_type": "code",
   "execution_count": 62,
   "metadata": {},
   "outputs": [
    {
     "data": {
      "text/plain": [
       "[0, 1, 2, 3, 4, 5, 6, 7, 8, 9, 10]"
      ]
     },
     "execution_count": 62,
     "metadata": {},
     "output_type": "execute_result"
    }
   ],
   "source": [
    "# conversion of one data type to another data type\n",
    "# int()   float()      bool()      str()\n",
    "\n",
    "# list()    tuple()   set()     dic()\n",
    "\n",
    "# e.g.     list(range(0, 11, 1)) \n",
    "list1 : list =list(range(0, 11, 1))\n",
    "list1"
   ]
  },
  {
   "cell_type": "code",
   "execution_count": 67,
   "metadata": {},
   "outputs": [
    {
     "data": {
      "text/plain": [
       "[1, 2, 3, 4, 5, 6, 7, 8, 9, 10]"
      ]
     },
     "metadata": {},
     "output_type": "display_data"
    },
    {
     "data": {
      "text/plain": [
       "[1, 4, 9, 16, 25, 36, 49, 64, 81, 100]"
      ]
     },
     "metadata": {},
     "output_type": "display_data"
    }
   ],
   "source": [
    "numbers : list = [1,2,3,4,5,6,7,8,9,10]\n",
    "squares: list =[]\n",
    "for x in numbers:\n",
    "    x=x**2\n",
    "    squares.append(x)\n",
    "display(numbers)\n",
    "display(squares)\n"
   ]
  },
  {
   "cell_type": "code",
   "execution_count": 69,
   "metadata": {},
   "outputs": [
    {
     "data": {
      "text/plain": [
       "[1, 4, 9, 16, 25, 36, 49, 64, 81, 100]"
      ]
     },
     "execution_count": 69,
     "metadata": {},
     "output_type": "execute_result"
    }
   ],
   "source": [
    "[x**2 for x in numbers]        # another method to calculate squares\n",
    "    #     x   sy jo bhi number aye ga us pr for sy pyhly wala task perform ho ga"
   ]
  }
 ],
 "metadata": {
  "kernelspec": {
   "display_name": "Python 3",
   "language": "python",
   "name": "python3"
  },
  "language_info": {
   "codemirror_mode": {
    "name": "ipython",
    "version": 3
   },
   "file_extension": ".py",
   "mimetype": "text/x-python",
   "name": "python",
   "nbconvert_exporter": "python",
   "pygments_lexer": "ipython3",
   "version": "3.12.2"
  }
 },
 "nbformat": 4,
 "nbformat_minor": 2
}
